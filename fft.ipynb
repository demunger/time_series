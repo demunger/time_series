{
 "cells": [
  {
   "cell_type": "markdown",
   "metadata": {},
   "source": [
    "### Exercises in Fourier Transformations"
   ]
  },
  {
   "cell_type": "code",
   "execution_count": 1,
   "metadata": {
    "collapsed": true
   },
   "outputs": [],
   "source": [
    "import numpy as np\n",
    "import time\n",
    "from scipy.signal import fftconvolve\n",
    "\n",
    "import matplotlib.pyplot as plt\n",
    "%matplotlib inline"
   ]
  },
  {
   "cell_type": "markdown",
   "metadata": {},
   "source": [
    "Comparison of physical and Fourier space convolution methods on an ARMA(2,1) process:"
   ]
  },
  {
   "cell_type": "code",
   "execution_count": 2,
   "metadata": {
    "collapsed": true
   },
   "outputs": [],
   "source": [
    "# ARMA simulation function\n",
    "def get_noise(n, var = 1, mean = 0):\n",
    "    return np.random.normal(mean, np.sqrt(var), size = n)\n",
    "\n",
    "def arma(n, phi, theta, var = 1, mean = 0):\n",
    "    p, q = len(phi), len(theta)\n",
    "    \n",
    "    # generate initial values within |0.5| of the mean\n",
    "    iv = mean + np.random.rand(max(p, q)) - 0.5\n",
    "    x_t = np.empty(n, dtype=np.float64)\n",
    "    x_t[:len(iv)] = iv\n",
    "    \n",
    "    # generate white noise terms\n",
    "    w = get_noise(n, var)\n",
    "    \n",
    "    for i in range(len(iv), n):\n",
    "        x_t[i] = (np.dot(x_t[i - p:i], phi[::-1]) + \n",
    "                  np.dot(w[i - q:i], theta[::-1]) + w[i])\n",
    "    return x_t"
   ]
  },
  {
   "cell_type": "code",
   "execution_count": 3,
   "metadata": {
    "collapsed": true
   },
   "outputs": [],
   "source": [
    "# function to calculate discrete convolution in physical space\n",
    "def get_convo(a, b):\n",
    "    N, M = len(a), len(b)\n",
    "    size = M + N - 1\n",
    "    return [sum([a[n - m] * b[m] if (n - m) >= 0 and (n - m) < N else 0 \n",
    "      for m in range(M)]) for n in range(size)]"
   ]
  },
  {
   "cell_type": "code",
   "execution_count": 4,
   "metadata": {
    "collapsed": false
   },
   "outputs": [
    {
     "data": {
      "text/plain": [
       "<matplotlib.text.Text at 0x7f7f84135f98>"
      ]
     },
     "execution_count": 4,
     "metadata": {},
     "output_type": "execute_result"
    },
    {
     "data": {
      "image/png": "[encoded data removed]",
      "text/plain": [
       "<matplotlib.figure.Figure at 0x7f7f8617fdd8>"
      ]
     },
     "metadata": {},
     "output_type": "display_data"
    }
   ],
   "source": [
    "def g(x):\n",
    "    return np.exp(-x ** 2)\n",
    "\n",
    "# create a Gaussian filter\n",
    "x_values = np.linspace(-3, 3, 100)\n",
    "g_t = [g(x) for x in x_values]\n",
    "\n",
    "plt.plot(x_values, g_t, ':')\n",
    "plt.title('Gaussian Filter')"
   ]
  },
  {
   "cell_type": "code",
   "execution_count": 5,
   "metadata": {
    "collapsed": false
   },
   "outputs": [
    {
     "name": "stdout",
     "output_type": "stream",
     "text": [
      "Signal length: 1000\n",
      "===================\n",
      "Coded routine: 0.044 sec\n",
      "Scipy routine: 0.000 sec\n",
      "The two convolution methods are basically equivalent.\n",
      "\n",
      "Signal length: 10000\n",
      "====================\n",
      "Coded routine: 0.329 sec\n",
      "Scipy routine: 0.001 sec\n",
      "The two convolution methods are basically equivalent.\n",
      "\n",
      "Signal length: 100000\n",
      "=====================\n",
      "Coded routine: 3.263 sec\n",
      "Scipy routine: 0.008 sec\n",
      "The two convolution methods are basically equivalent.\n",
      "\n",
      "Signal length: 1000000\n",
      "======================\n",
      "Coded routine: 33.251 sec\n",
      "Scipy routine: 0.103 sec\n",
      "The two convolution methods are basically equivalent.\n",
      "\n",
      "The physical and Fourier space convolution methods are overall equivalent.\n"
     ]
    }
   ],
   "source": [
    "def convolution(space, x_t, g_t):\n",
    "    start_time = time.time()\n",
    "    if space == 'p':\n",
    "        convo = get_convo(x_t, g_t)\n",
    "    else:\n",
    "        convo = fftconvolve(x_t, g_t)\n",
    "    return convo, time.time() - start_time\n",
    "    \n",
    "def compare_routines(sig_len):\n",
    "    title = 'Signal length: %s' % sig_len\n",
    "    print(title + '\\n' + '=' * len(title))\n",
    "    \n",
    "    # create an ARMA(2,1) process\n",
    "    x_t = arma(sig_len, [.5, .1], [.5])\n",
    "    \n",
    "    # calculate the discrete convolution\n",
    "    convo, convo_time = convolution('p', x_t, g_t)\n",
    "    # calculate the convolution in Fourier space\n",
    "    fft, fft_time = convolution('f', x_t, g_t)\n",
    "    \n",
    "    # Compare performance\n",
    "    print('Coded routine: %.3f sec' % convo_time)\n",
    "    print('Scipy routine: %.3f sec' % fft_time)\n",
    "    \n",
    "    # verify result similarity\n",
    "    same = all(abs(convo - fft) < epsilon)\n",
    "    if same:\n",
    "        print('The two convolution methods are basically equivalent.\\n')\n",
    "    else:\n",
    "        print('The two convolution methods are not equivalent.\\n')\n",
    "\n",
    "    return same\n",
    "    \n",
    "signal_lengths = [1000, 10000, 100000, 1000000]\n",
    "epsilon = 10e-10\n",
    "\n",
    "same = [compare_routines(sig_len) for sig_len in signal_lengths]\n",
    "if all(same):\n",
    "    print('The physical and Fourier space convolution methods are overall equivalent.')\n",
    "else:\n",
    "    print('The physical and Fourier space convolution methods are not overall equivalent.')"
   ]
  }
 ],
 "metadata": {
  "kernelspec": {
   "display_name": "Python 3",
   "language": "python",
   "name": "python3"
  },
  "language_info": {
   "codemirror_mode": {
    "name": "ipython",
    "version": 3
   },
   "file_extension": ".py",
   "mimetype": "text/x-python",
   "name": "python",
   "nbconvert_exporter": "python",
   "pygments_lexer": "ipython3",
   "version": "3.6.0"
  }
 },
 "nbformat": 4,
 "nbformat_minor": 1
}
